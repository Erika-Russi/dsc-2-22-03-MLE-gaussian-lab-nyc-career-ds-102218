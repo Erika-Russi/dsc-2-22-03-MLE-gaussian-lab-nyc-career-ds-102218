{
 "cells": [
  {
   "cell_type": "markdown",
   "metadata": {},
   "source": [
    "# MLE with Normal Distributions - Lab\n",
    "\n",
    "## Introduction\n",
    "\n",
    "In this lab, we shall put in practice, the mathematical formulas we saw in previous lesson to see how MLE works with normal distributions. \n",
    "\n",
    "## Objectives\n",
    "You will be able to:\n",
    "\n",
    "* Understand and describe how MLE works with normal distributions\n",
    "* Fit a normal distribution to given data identifying mean and variance\n",
    "* Visually compare the fitted distribution vs. real distribution\n"
   ]
  },
  {
   "cell_type": "markdown",
   "metadata": {},
   "source": [
    "**Note:** *A detailed derivation of all MLE equations with proofs can be seen [at this website](https://www.statlect.com/fundamentals-of-statistics/normal-distribution-maximum-likelihood). *\n",
    "\n",
    "## MLE in Python\n",
    "\n",
    "Let's see an example of MLE and distribution fittings with Python below. Here `scipy.stats.norm.fit` calculates the distribution parameters using Maximum Likelihood Estimation."
   ]
  },
  {
   "cell_type": "markdown",
   "metadata": {},
   "source": [
    "### Import necessary libraries"
   ]
  },
  {
   "cell_type": "code",
   "execution_count": 1,
   "metadata": {},
   "outputs": [],
   "source": [
    "from scipy.stats import norm # for generating sample data and fitting distributions\n",
    "import matplotlib.pyplot as plt\n",
    "plt.style.use('seaborn')\n",
    "import numpy as np"
   ]
  },
  {
   "cell_type": "markdown",
   "metadata": {},
   "source": [
    "### Generate an array of 200 random sample from a normal dist with mean 0 and stdv 1"
   ]
  },
  {
   "cell_type": "code",
   "execution_count": 2,
   "metadata": {},
   "outputs": [
    {
     "data": {
      "text/plain": [
       "array([-4.23877231e-01, -1.19584917e+00,  4.30527767e-01, -8.97135758e-01,\n",
       "       -3.44740704e-01, -1.11907831e+00,  1.97033192e+00, -2.15488453e+00,\n",
       "        1.34040007e+00, -6.34368854e-01, -1.22006241e+00, -1.01659442e+00,\n",
       "       -2.41193402e-01,  1.14859038e+00, -7.55855366e-03,  2.02634682e-01,\n",
       "        6.94029114e-01,  1.47098775e+00, -2.45315228e+00,  1.73975815e+00,\n",
       "       -7.96342512e-02, -1.26493522e+00,  4.25666068e-01,  1.68844419e+00,\n",
       "       -1.18576021e+00,  4.62601080e-03, -2.15409547e-01, -1.48981535e-01,\n",
       "        7.34184528e-01,  1.31972970e+00, -2.85640367e+00, -1.59000890e-01,\n",
       "        3.28954810e-01, -1.03032160e+00,  1.30334867e+00,  2.27829699e-03,\n",
       "        5.66360827e-01, -9.43549189e-01, -1.44030890e+00, -1.83046126e-01,\n",
       "        6.72465542e-01,  1.64125666e+00,  3.77963787e-01, -4.09605712e-01,\n",
       "       -6.75356922e-01,  6.61177992e-02, -1.23387387e+00, -4.17044528e-01,\n",
       "       -5.21931867e-01,  1.18676622e+00,  2.10283132e+00, -9.03117587e-02,\n",
       "        4.39593977e-01,  9.19117525e-01,  3.79313094e-01,  5.25449219e-01,\n",
       "       -6.27234959e-01, -6.82994841e-01,  2.18916577e-01, -1.56928381e+00,\n",
       "       -1.78536730e+00, -1.28326205e+00,  1.31551929e-01,  4.61035691e-01,\n",
       "       -3.59180822e-02,  7.15009806e-01,  7.48845505e-01,  1.98314094e-02,\n",
       "       -3.00994763e-01, -6.20018548e-01,  9.06996000e-01, -2.31921329e-01,\n",
       "       -7.91517677e-01,  1.35971534e-01,  4.07651594e-01,  6.65642000e-01,\n",
       "        1.73787636e+00,  9.92306960e-01,  9.33916781e-01, -1.25708071e+00,\n",
       "       -4.68857799e-01, -4.32654989e-01,  1.02555962e+00,  4.38987622e-01,\n",
       "       -6.88783277e-01, -1.26082393e+00, -1.40734123e+00,  1.27755766e+00,\n",
       "       -5.27054004e-02, -3.13246887e-01, -1.20247757e+00, -1.53955489e+00,\n",
       "        7.50898162e-01,  6.72709347e-01,  1.32520323e+00,  1.03813157e+00,\n",
       "       -1.19652039e-01, -6.05593923e-01, -9.65112828e-01,  2.48340496e-01,\n",
       "       -1.16164706e+00, -2.19653502e+00, -5.72835837e-01, -5.30871186e-01,\n",
       "        1.29997611e+00,  4.37560327e-01,  1.76206924e-01,  1.33493261e+00,\n",
       "        1.23286392e+00,  7.51262185e-02, -1.13638376e+00, -1.40728664e+00,\n",
       "       -1.46822498e+00, -1.07274239e+00, -1.19109812e+00, -1.62693291e+00,\n",
       "       -5.94392202e-01,  4.66835540e-01,  1.87835886e-01, -2.01832186e-01,\n",
       "       -8.33432761e-01, -1.38476252e+00,  1.81909330e-01,  3.92413622e-01,\n",
       "        2.97237986e-02,  2.36772644e-01,  1.16583568e+00, -2.01041948e-01,\n",
       "        7.80132375e-01, -8.92991914e-01, -8.89694524e-01,  6.40679768e-01,\n",
       "       -3.15336768e-01, -1.39523972e+00,  4.08358622e-01, -5.43801762e-01,\n",
       "        1.86388603e+00,  2.46353435e-01,  1.64214560e-01,  2.24797494e-01,\n",
       "        2.63856958e+00,  1.13636483e+00,  1.83296247e+00,  3.21804227e-01,\n",
       "        2.13060491e-01,  1.57519816e-02, -1.68867393e+00, -6.43306285e-01,\n",
       "       -4.07247237e-01, -1.91016511e+00,  1.20522363e-01,  8.23337168e-01,\n",
       "       -7.43869799e-01,  1.65420762e+00,  9.22825290e-01,  5.41563073e-01,\n",
       "        7.89639617e-02,  4.78997721e-01,  2.60558495e+00, -1.12125657e+00,\n",
       "       -1.97006730e-02, -3.47831584e-01, -1.14888982e+00, -8.93434832e-02,\n",
       "       -1.53142707e+00, -5.91820298e-01, -1.77252269e-01,  8.09446868e-01,\n",
       "        7.97644799e-02,  6.67713457e-01,  1.39073854e+00, -5.67975996e-01,\n",
       "        6.96617500e-01,  2.85653948e-01, -5.29369804e-01,  1.74134943e+00,\n",
       "       -6.39440722e-01, -3.29289244e-01,  4.14281088e-02, -3.54948350e-01,\n",
       "       -6.31416407e-01, -3.94906966e-01, -4.70352423e-01, -8.09200006e-01,\n",
       "        3.27705258e-01,  2.15995854e+00,  1.77226430e-01,  8.16629291e-01,\n",
       "       -2.67435874e-01, -1.03474635e+00, -5.51772826e-02,  6.91484225e-01,\n",
       "        9.39128463e-01,  1.22897802e-01,  1.45363066e+00,  9.32594576e-02,\n",
       "        7.06613457e-01, -6.76133232e-01, -1.47068600e+00,  2.77022546e-02])"
      ]
     },
     "execution_count": 2,
     "metadata": {},
     "output_type": "execute_result"
    }
   ],
   "source": [
    "sample = norm.rvs(loc=0,scale=1,size=200) \n",
    "sample"
   ]
  },
  {
   "cell_type": "markdown",
   "metadata": {},
   "source": [
    "### Distribution fitting through MLE\n",
    "#### -  Use `stats.norm.fit(data)` to fit a distribution to above data.\n",
    "#### - This returns a list of two parameters : (mean,: parameters[0] and std:  parameters[1]) via a MLE approach "
   ]
  },
  {
   "cell_type": "code",
   "execution_count": 3,
   "metadata": {},
   "outputs": [
    {
     "data": {
      "text/plain": [
       "(-0.02190385270689961, 0.9911621135304376)"
      ]
     },
     "execution_count": 3,
     "metadata": {},
     "output_type": "execute_result"
    }
   ],
   "source": [
    "param = norm.fit(sample)\n",
    "\n",
    "param[0], param[1]"
   ]
  },
  {
   "cell_type": "markdown",
   "metadata": {},
   "source": [
    "### Calculate the PDF (probability density function) from a) actual data parameters b) fitted parameters with `x = np.linspace(-5,5,100)`"
   ]
  },
  {
   "cell_type": "code",
   "execution_count": 5,
   "metadata": {},
   "outputs": [],
   "source": [
    "x = np.linspace(-5,5,100)\n",
    "\n",
    "# Generate the pdf from fitted parameters (fitted distribution)\n",
    "fitted_pdf = norm.pdf(x,loc = param[0],scale = param[1])\n",
    "\n",
    "# Generate the pdf without fitting (normal distribution non fitted)\n",
    "normal_pdf = norm.pdf(x)"
   ]
  },
  {
   "cell_type": "markdown",
   "metadata": {},
   "source": [
    "### Visualize both PDFs "
   ]
  },
  {
   "cell_type": "code",
   "execution_count": 6,
   "metadata": {},
   "outputs": [],
   "source": [
    "# Your code here "
   ]
  },
  {
   "cell_type": "code",
   "execution_count": 8,
   "metadata": {},
   "outputs": [],
   "source": [
    "#  Your comments/observations"
   ]
  },
  {
   "cell_type": "markdown",
   "metadata": {},
   "source": [
    "## Summary "
   ]
  },
  {
   "cell_type": "markdown",
   "metadata": {},
   "source": [
    "In this short lab, we looked at Bayesian setting in a Gaussian context i.e. when the underlying random variables are normally distributed. We learned that MLE can estimate the unknown parameters of a normal distribution, by maximizing the likelihood of expected mean. The expected mean comes very close to the mean of a non-fitted normal distribution within that parameter space. We shall move ahead with this understanding towards learning how such estimations are performed in estimating means of a number of classes present in the data distribution using Naive Bayes Classifier."
   ]
  }
 ],
 "metadata": {
  "kernelspec": {
   "display_name": "Python 3",
   "language": "python",
   "name": "python3"
  },
  "language_info": {
   "codemirror_mode": {
    "name": "ipython",
    "version": 3
   },
   "file_extension": ".py",
   "mimetype": "text/x-python",
   "name": "python",
   "nbconvert_exporter": "python",
   "pygments_lexer": "ipython3",
   "version": "3.6.6"
  }
 },
 "nbformat": 4,
 "nbformat_minor": 2
}
